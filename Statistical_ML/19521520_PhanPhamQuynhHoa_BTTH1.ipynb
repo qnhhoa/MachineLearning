{
  "nbformat": 4,
  "nbformat_minor": 0,
  "metadata": {
    "colab": {
      "name": "19521520_PhanPhamQuynhHoa_BTTH1.ipynb",
      "provenance": [],
      "collapsed_sections": [],
      "include_colab_link": true
    },
    "kernelspec": {
      "name": "python3",
      "display_name": "Python 3"
    },
    "language_info": {
      "name": "python"
    }
  },
  "cells": [
    {
      "cell_type": "markdown",
      "metadata": {
        "id": "view-in-github",
        "colab_type": "text"
      },
      "source": [
        "<a href=\"https://colab.research.google.com/github/qnhhoa/MachineLearning/blob/main/19521520_PhanPhamQuynhHoa_BTTH1.ipynb\" target=\"_parent\"><img src=\"https://colab.research.google.com/assets/colab-badge.svg\" alt=\"Open In Colab\"/></a>"
      ]
    },
    {
      "cell_type": "markdown",
      "metadata": {
        "id": "Bl_J6J53J1qd"
      },
      "source": [
        "# 1. Load dữ liệu"
      ]
    },
    {
      "cell_type": "code",
      "metadata": {
        "id": "kzPOR8ZqJzEk"
      },
      "source": [
        "from sklearn.datasets import load_iris"
      ],
      "execution_count": null,
      "outputs": []
    },
    {
      "cell_type": "code",
      "metadata": {
        "id": "L-YnzEvvKAqP"
      },
      "source": [
        "iris = load_iris()"
      ],
      "execution_count": null,
      "outputs": []
    },
    {
      "cell_type": "markdown",
      "metadata": {
        "id": "BmdpD5TELmjq"
      },
      "source": [
        "Ý nghĩa bộ dữ liệu \n",
        "- X: các thuộc tính của dữ liệu (đôi khi còn được gọi là biến phụ thuộc). Mỗi điểm dữ liệu (mỗi dòng) trong X sẽ gồm 4 cột theo thứ tự: Sepal Length, Sepal Width, Petal Length and Petal Width. (Sepal: đài hoa, Petal: cánh hoa). Như vậy, các thuộc tính trong bộ dữ liệu Iris sẽ là độ dài và độ rộng của đài hoa và cánh hoa.\n",
        "- y: nhãn của dữ liệu. Mỗi điểm dữ liệu (mỗi dòng) trong y sẽ là nhãn (đã được mã hoá) của bộ dữ liệu. \n",
        "\n",
        "Các nhãn trong bộ Iris: Setosa (0), Versicolour (1), and Virginica (2)"
      ]
    },
    {
      "cell_type": "code",
      "metadata": {
        "id": "AmAiea6CKLWy"
      },
      "source": [
        "X = iris.data[:, :2] # đối với X, ta chỉ sử dụng 2 thuộc tính sepal length và sepal width để huấn luyện mô hình. \n",
        "y = iris.target      # y: nhãn, gồm 3 nhãn "
      ],
      "execution_count": null,
      "outputs": []
    },
    {
      "cell_type": "code",
      "metadata": {
        "id": "rleNNr0N20L-",
        "colab": {
          "base_uri": "https://localhost:8080/"
        },
        "outputId": "1486c0e8-f5fd-49c5-df60-114e46910b24"
      },
      "source": [
        "print(y)"
      ],
      "execution_count": null,
      "outputs": [
        {
          "output_type": "stream",
          "name": "stdout",
          "text": [
            "[0 0 0 0 0 0 0 0 0 0 0 0 0 0 0 0 0 0 0 0 0 0 0 0 0 0 0 0 0 0 0 0 0 0 0 0 0\n",
            " 0 0 0 0 0 0 0 0 0 0 0 0 0 1 1 1 1 1 1 1 1 1 1 1 1 1 1 1 1 1 1 1 1 1 1 1 1\n",
            " 1 1 1 1 1 1 1 1 1 1 1 1 1 1 1 1 1 1 1 1 1 1 1 1 1 1 2 2 2 2 2 2 2 2 2 2 2\n",
            " 2 2 2 2 2 2 2 2 2 2 2 2 2 2 2 2 2 2 2 2 2 2 2 2 2 2 2 2 2 2 2 2 2 2 2 2 2\n",
            " 2 2]\n"
          ]
        }
      ]
    },
    {
      "cell_type": "code",
      "metadata": {
        "id": "7egP9uY12_94",
        "colab": {
          "base_uri": "https://localhost:8080/"
        },
        "outputId": "1fba081b-cdf3-4518-ca6b-977440d61e9e"
      },
      "source": [
        "print(X)"
      ],
      "execution_count": null,
      "outputs": [
        {
          "output_type": "stream",
          "name": "stdout",
          "text": [
            "[[5.1 3.5]\n",
            " [4.9 3. ]\n",
            " [4.7 3.2]\n",
            " [4.6 3.1]\n",
            " [5.  3.6]\n",
            " [5.4 3.9]\n",
            " [4.6 3.4]\n",
            " [5.  3.4]\n",
            " [4.4 2.9]\n",
            " [4.9 3.1]\n",
            " [5.4 3.7]\n",
            " [4.8 3.4]\n",
            " [4.8 3. ]\n",
            " [4.3 3. ]\n",
            " [5.8 4. ]\n",
            " [5.7 4.4]\n",
            " [5.4 3.9]\n",
            " [5.1 3.5]\n",
            " [5.7 3.8]\n",
            " [5.1 3.8]\n",
            " [5.4 3.4]\n",
            " [5.1 3.7]\n",
            " [4.6 3.6]\n",
            " [5.1 3.3]\n",
            " [4.8 3.4]\n",
            " [5.  3. ]\n",
            " [5.  3.4]\n",
            " [5.2 3.5]\n",
            " [5.2 3.4]\n",
            " [4.7 3.2]\n",
            " [4.8 3.1]\n",
            " [5.4 3.4]\n",
            " [5.2 4.1]\n",
            " [5.5 4.2]\n",
            " [4.9 3.1]\n",
            " [5.  3.2]\n",
            " [5.5 3.5]\n",
            " [4.9 3.6]\n",
            " [4.4 3. ]\n",
            " [5.1 3.4]\n",
            " [5.  3.5]\n",
            " [4.5 2.3]\n",
            " [4.4 3.2]\n",
            " [5.  3.5]\n",
            " [5.1 3.8]\n",
            " [4.8 3. ]\n",
            " [5.1 3.8]\n",
            " [4.6 3.2]\n",
            " [5.3 3.7]\n",
            " [5.  3.3]\n",
            " [7.  3.2]\n",
            " [6.4 3.2]\n",
            " [6.9 3.1]\n",
            " [5.5 2.3]\n",
            " [6.5 2.8]\n",
            " [5.7 2.8]\n",
            " [6.3 3.3]\n",
            " [4.9 2.4]\n",
            " [6.6 2.9]\n",
            " [5.2 2.7]\n",
            " [5.  2. ]\n",
            " [5.9 3. ]\n",
            " [6.  2.2]\n",
            " [6.1 2.9]\n",
            " [5.6 2.9]\n",
            " [6.7 3.1]\n",
            " [5.6 3. ]\n",
            " [5.8 2.7]\n",
            " [6.2 2.2]\n",
            " [5.6 2.5]\n",
            " [5.9 3.2]\n",
            " [6.1 2.8]\n",
            " [6.3 2.5]\n",
            " [6.1 2.8]\n",
            " [6.4 2.9]\n",
            " [6.6 3. ]\n",
            " [6.8 2.8]\n",
            " [6.7 3. ]\n",
            " [6.  2.9]\n",
            " [5.7 2.6]\n",
            " [5.5 2.4]\n",
            " [5.5 2.4]\n",
            " [5.8 2.7]\n",
            " [6.  2.7]\n",
            " [5.4 3. ]\n",
            " [6.  3.4]\n",
            " [6.7 3.1]\n",
            " [6.3 2.3]\n",
            " [5.6 3. ]\n",
            " [5.5 2.5]\n",
            " [5.5 2.6]\n",
            " [6.1 3. ]\n",
            " [5.8 2.6]\n",
            " [5.  2.3]\n",
            " [5.6 2.7]\n",
            " [5.7 3. ]\n",
            " [5.7 2.9]\n",
            " [6.2 2.9]\n",
            " [5.1 2.5]\n",
            " [5.7 2.8]\n",
            " [6.3 3.3]\n",
            " [5.8 2.7]\n",
            " [7.1 3. ]\n",
            " [6.3 2.9]\n",
            " [6.5 3. ]\n",
            " [7.6 3. ]\n",
            " [4.9 2.5]\n",
            " [7.3 2.9]\n",
            " [6.7 2.5]\n",
            " [7.2 3.6]\n",
            " [6.5 3.2]\n",
            " [6.4 2.7]\n",
            " [6.8 3. ]\n",
            " [5.7 2.5]\n",
            " [5.8 2.8]\n",
            " [6.4 3.2]\n",
            " [6.5 3. ]\n",
            " [7.7 3.8]\n",
            " [7.7 2.6]\n",
            " [6.  2.2]\n",
            " [6.9 3.2]\n",
            " [5.6 2.8]\n",
            " [7.7 2.8]\n",
            " [6.3 2.7]\n",
            " [6.7 3.3]\n",
            " [7.2 3.2]\n",
            " [6.2 2.8]\n",
            " [6.1 3. ]\n",
            " [6.4 2.8]\n",
            " [7.2 3. ]\n",
            " [7.4 2.8]\n",
            " [7.9 3.8]\n",
            " [6.4 2.8]\n",
            " [6.3 2.8]\n",
            " [6.1 2.6]\n",
            " [7.7 3. ]\n",
            " [6.3 3.4]\n",
            " [6.4 3.1]\n",
            " [6.  3. ]\n",
            " [6.9 3.1]\n",
            " [6.7 3.1]\n",
            " [6.9 3.1]\n",
            " [5.8 2.7]\n",
            " [6.8 3.2]\n",
            " [6.7 3.3]\n",
            " [6.7 3. ]\n",
            " [6.3 2.5]\n",
            " [6.5 3. ]\n",
            " [6.2 3.4]\n",
            " [5.9 3. ]]\n"
          ]
        }
      ]
    },
    {
      "cell_type": "markdown",
      "metadata": {
        "id": "pWQu41IoKgXg"
      },
      "source": [
        "Hãy cho biết có bao nhiêu điểm dữ liệu trong bộ data \n",
        "Gợi ý: dùng hàm len() cho X "
      ]
    },
    {
      "cell_type": "code",
      "metadata": {
        "id": "-d5-YhMEKcz0",
        "colab": {
          "base_uri": "https://localhost:8080/"
        },
        "outputId": "101a69d5-26ae-41c1-9281-3329e495a3eb"
      },
      "source": [
        "## CODE HERE ## \n",
        "len(X)"
      ],
      "execution_count": null,
      "outputs": [
        {
          "output_type": "execute_result",
          "data": {
            "text/plain": [
              "150"
            ]
          },
          "metadata": {},
          "execution_count": 12
        }
      ]
    },
    {
      "cell_type": "markdown",
      "metadata": {
        "id": "w4nSugcxMsKj"
      },
      "source": [
        "Hãy cho biết chiều (shape) của X.  \n",
        "\n",
        "Gợi ý: sử dụng X.shape "
      ]
    },
    {
      "cell_type": "code",
      "metadata": {
        "id": "Qi8t5_-6MpdP",
        "colab": {
          "base_uri": "https://localhost:8080/"
        },
        "outputId": "a9bde884-571f-445b-c96a-0143d8fe4592"
      },
      "source": [
        "## CODE HERE ## \n",
        "X.shape"
      ],
      "execution_count": null,
      "outputs": [
        {
          "output_type": "execute_result",
          "data": {
            "text/plain": [
              "(150, 2)"
            ]
          },
          "metadata": {},
          "execution_count": 14
        }
      ]
    },
    {
      "cell_type": "markdown",
      "metadata": {
        "id": "viqDmEmIM5IL"
      },
      "source": [
        "Hãy cho biết chiều (shape) của y. \n",
        "\n",
        "Gợi ý: sử dụng hàm y.shape "
      ]
    },
    {
      "cell_type": "code",
      "metadata": {
        "id": "wuIIybO1M_UP"
      },
      "source": [
        "## CODE HERE ## \n"
      ],
      "execution_count": null,
      "outputs": []
    },
    {
      "cell_type": "markdown",
      "metadata": {
        "id": "yXMOc4JtNKxf"
      },
      "source": [
        "# 2. Xây dựng mô hình"
      ]
    },
    {
      "cell_type": "markdown",
      "metadata": {
        "id": "OOhy5zmWNoKO"
      },
      "source": [
        "## 2.1. Phân chia dữ liệu huấn luyện"
      ]
    },
    {
      "cell_type": "markdown",
      "metadata": {
        "id": "pAC6gz2nNtCF"
      },
      "source": [
        "Các bạn cần chia dữ liệu ra thành 2 tập:\n",
        "- train: tập huấn luyện\n",
        "- test: tập kiểm tra \n",
        "\n",
        "Tỉ lệ dữ liệu của tập huấn luyện và tập kiểm tra là: 8 - 2. *Tức là 80% dữ liệu ban đầu sẽ dùng cho huấn luyện, 20% sẽ dùng cho test*. \n",
        "\n",
        "Các bạn sử dụng hàm train_test_split() trong sklearn, với tham số **test_size = 0.2 **\n",
        "\n",
        "Hàm train_test_split sẽ trả về một tuple, gồm **X_train, X_test, y_train, y_test**\n",
        "\n",
        "Các bạn thay thế None bằng hàm train_test_split trong sklearn \n",
        "\n",
        "Các  bạn tham khảo code mẫu ở đây để thực hiện nhé: \n",
        "https://scikit-learn.org/stable/modules/generated/sklearn.model_selection.train_test_split.html"
      ]
    },
    {
      "cell_type": "code",
      "metadata": {
        "id": "ofHAlQbXNM4u"
      },
      "source": [
        "from sklearn.model_selection import train_test_split\n",
        "\n",
        "## CODE HERE ## \n",
        "X_train, X_test, y_train, y_test = train_test_split(X, y, test_size=0.2)"
      ],
      "execution_count": null,
      "outputs": []
    },
    {
      "cell_type": "markdown",
      "metadata": {
        "id": "mMNSzhUhOgoW"
      },
      "source": [
        "Hãy cho biết kích thước của tập train. (X_train)"
      ]
    },
    {
      "cell_type": "code",
      "metadata": {
        "id": "i7KU-MTtOpWX",
        "colab": {
          "base_uri": "https://localhost:8080/"
        },
        "outputId": "56cccd38-1c26-49a0-8bc4-02bdfebbf3bd"
      },
      "source": [
        "## CODE HERE ## \n",
        "len(X_train)"
      ],
      "execution_count": null,
      "outputs": [
        {
          "output_type": "execute_result",
          "data": {
            "text/plain": [
              "120"
            ]
          },
          "metadata": {},
          "execution_count": 19
        }
      ]
    },
    {
      "cell_type": "markdown",
      "metadata": {
        "id": "DEO5gFgHOqnR"
      },
      "source": [
        "Hãy cho biết kích thước của tập test. (X_test )"
      ]
    },
    {
      "cell_type": "code",
      "metadata": {
        "id": "r-YdzXXUOt57",
        "colab": {
          "base_uri": "https://localhost:8080/"
        },
        "outputId": "937db88e-8b82-4d5d-fb06-ad9590e76b2d"
      },
      "source": [
        "len(X_test)\n"
      ],
      "execution_count": null,
      "outputs": [
        {
          "output_type": "execute_result",
          "data": {
            "text/plain": [
              "30"
            ]
          },
          "metadata": {},
          "execution_count": 20
        }
      ]
    },
    {
      "cell_type": "markdown",
      "metadata": {
        "id": "RM2T73ajOuvS"
      },
      "source": [
        "Hãy cho biết chiều của X_train"
      ]
    },
    {
      "cell_type": "code",
      "metadata": {
        "id": "yQXZaxGSOy9Q",
        "colab": {
          "base_uri": "https://localhost:8080/"
        },
        "outputId": "2dbe746b-aed8-4161-a143-4cd6151687ed"
      },
      "source": [
        "## CODE HERE ## \n",
        "X_train.shape"
      ],
      "execution_count": null,
      "outputs": [
        {
          "output_type": "execute_result",
          "data": {
            "text/plain": [
              "(120, 2)"
            ]
          },
          "metadata": {},
          "execution_count": 21
        }
      ]
    },
    {
      "cell_type": "markdown",
      "metadata": {
        "id": "9xiStILSO07K"
      },
      "source": [
        "Hãy cho biết chiều của X_test"
      ]
    },
    {
      "cell_type": "code",
      "metadata": {
        "id": "qooawHq1O0kC",
        "colab": {
          "base_uri": "https://localhost:8080/"
        },
        "outputId": "2eb85037-33d6-4b56-ea03-dde4c598adc1"
      },
      "source": [
        "## CODE HERE ## \n",
        "X_test.shape"
      ],
      "execution_count": null,
      "outputs": [
        {
          "output_type": "execute_result",
          "data": {
            "text/plain": [
              "(30, 2)"
            ]
          },
          "metadata": {},
          "execution_count": 22
        }
      ]
    },
    {
      "cell_type": "markdown",
      "metadata": {
        "id": "XZx3R8aTPAs-"
      },
      "source": [
        "## 2.2 Huấn luyện mô hình "
      ]
    },
    {
      "cell_type": "markdown",
      "metadata": {
        "id": "Dsq0X-NsPZLO"
      },
      "source": [
        "Dùng mô hình **Logistic Regression** để huấn luyện.\n",
        "\n",
        "Gợi ý: Dùng thư viện LogisticRegression trong sklearn \n",
        "\n",
        "Đặt biến ***model1*** là mô hình LogisticRegression. \n",
        "\n",
        "Các bạn thay None bằng mô hình tương ứng. Sử dụng thư viện sklearn\n",
        "\n",
        "Các bạn tham khảo tại đây: https://scikit-learn.org/stable/modules/generated/sklearn.linear_model.LogisticRegression.html\n"
      ]
    },
    {
      "cell_type": "code",
      "metadata": {
        "id": "G-RnwPEwPEtp",
        "colab": {
          "base_uri": "https://localhost:8080/"
        },
        "outputId": "511b5f33-514f-4f60-fef6-5c01dbe379a0"
      },
      "source": [
        "from sklearn.linear_model import LogisticRegression\n",
        "\n",
        "model1 = LogisticRegression()\n",
        "\n",
        "# Huan luyen mo hinh \n",
        "model1.fit(X_train, y_train)"
      ],
      "execution_count": null,
      "outputs": [
        {
          "output_type": "execute_result",
          "data": {
            "text/plain": [
              "LogisticRegression(C=1.0, class_weight=None, dual=False, fit_intercept=True,\n",
              "                   intercept_scaling=1, l1_ratio=None, max_iter=100,\n",
              "                   multi_class='auto', n_jobs=None, penalty='l2',\n",
              "                   random_state=None, solver='lbfgs', tol=0.0001, verbose=0,\n",
              "                   warm_start=False)"
            ]
          },
          "metadata": {},
          "execution_count": 32
        }
      ]
    },
    {
      "cell_type": "markdown",
      "metadata": {
        "id": "_ei96tAQQZIi"
      },
      "source": [
        "Dự đoán mô hình. Giá trị được lưu trong biến ***y_pred1***"
      ]
    },
    {
      "cell_type": "code",
      "metadata": {
        "id": "FkhXuDWuQYqT"
      },
      "source": [
        "y_pred1 = model1.predict(X_test)     # gia tri du doan boi mo hinh Logistic Regression "
      ],
      "execution_count": null,
      "outputs": []
    },
    {
      "cell_type": "markdown",
      "metadata": {
        "id": "fr3EU1HeQrSB"
      },
      "source": [
        "Dùng mô hình **K láng giềng gần nhất (K-nearest neighbor)** để huấn luyện.\n",
        "\n",
        "Gợi ý: Dùng thư viện KNeighborsClassifier trong sklearn \n",
        "\n",
        "Đặt biến ***model2*** là mô hình KNeighborsClassifier. \n",
        "\n",
        "Các bạn thay None bằng mô hình tương ứng. Sử dụng thư viện sklearn\n",
        "\n",
        "Các bạn tham khảo thêm tại đây: https://scikit-learn.org/stable/modules/generated/sklearn.neighbors.KNeighborsClassifier.html"
      ]
    },
    {
      "cell_type": "code",
      "metadata": {
        "id": "AbO-h2S8RA8n",
        "colab": {
          "base_uri": "https://localhost:8080/"
        },
        "outputId": "07f65531-55f2-456a-e718-adb1baa37eb6"
      },
      "source": [
        "from sklearn.neighbors import KNeighborsClassifier\n",
        "\n",
        "## CODE HERE ## \n",
        "model2 = KNeighborsClassifier()\n",
        "model2.fit(X_train, y_train)"
      ],
      "execution_count": null,
      "outputs": [
        {
          "output_type": "execute_result",
          "data": {
            "text/plain": [
              "KNeighborsClassifier(algorithm='auto', leaf_size=30, metric='minkowski',\n",
              "                     metric_params=None, n_jobs=None, n_neighbors=5, p=2,\n",
              "                     weights='uniform')"
            ]
          },
          "metadata": {},
          "execution_count": 35
        }
      ]
    },
    {
      "cell_type": "markdown",
      "metadata": {
        "id": "8unf5MCpRHEu"
      },
      "source": [
        "Dự đoán mô hình. Giá trị được lưu trong biến ***y_pred2***"
      ]
    },
    {
      "cell_type": "code",
      "metadata": {
        "id": "wul4e-6QRFWm"
      },
      "source": [
        "y_pred2 = model2.predict(X_test)"
      ],
      "execution_count": null,
      "outputs": []
    },
    {
      "cell_type": "markdown",
      "metadata": {
        "id": "h4jzmgF8RRfp"
      },
      "source": [
        "# 3. Đánh giá kết quả của các mô hình "
      ]
    },
    {
      "cell_type": "markdown",
      "metadata": {
        "id": "s5lhLom2RVBn"
      },
      "source": [
        "So sánh nhãn được dự đoán của LogisticRegression và KNeighborsClassifier với nhãn thật của dữ liệu test để biết được độ chính xác của mô hình \n",
        "\n",
        "- y_pred1: danh sách nhãn dự đoán của mô hình LogisticRegression\n",
        "- y_pred2: danh sách nhãn dự đoán của mô hình KNeighborsClassifier\n",
        "\n",
        "- y_test: danh sách nhãn thực sự của dữ liệu (trong code ví dụ thì sklearn sẽ dùng tên biến là y_true. Tuy nhiên, ý nghĩa cả 2 là một) \n",
        "\n",
        "=> Như vậy, ta sẽ so sánh **y_pred1** và **y_test** để biết được độ chính xác của mô hình LogisticRegression. Và so sánh **y_pred2** và **y_test** để biết được độ chính xác của mô hình KNeighborsClassifier"
      ]
    },
    {
      "cell_type": "markdown",
      "metadata": {
        "id": "I6N-6Xj-SK5v"
      },
      "source": [
        "Độ chính xác của LogisticRegression. \n",
        "Sử dụng accuracy_score trong thư viện sklearn \n",
        "\n",
        "Các bạn thực hiện thử để biết độ chính xác của LogisticRegression\n",
        "\n",
        "Các bạn tham khảo thêm về accuracy_score tại đây: https://scikit-learn.org/stable/modules/generated/sklearn.metrics.accuracy_score.html"
      ]
    },
    {
      "cell_type": "code",
      "metadata": {
        "id": "FNiUPp6TRUj0",
        "colab": {
          "base_uri": "https://localhost:8080/"
        },
        "outputId": "76a1cca6-6029-49d4-cd04-801583bd08b6"
      },
      "source": [
        "from sklearn.metrics import accuracy_score\n",
        "accuracy_score(y_test, y_pred1)*100"
      ],
      "execution_count": null,
      "outputs": [
        {
          "output_type": "execute_result",
          "data": {
            "text/plain": [
              "73.33333333333333"
            ]
          },
          "metadata": {},
          "execution_count": 34
        }
      ]
    },
    {
      "cell_type": "markdown",
      "metadata": {
        "id": "HYa3Nul6SyDF"
      },
      "source": [
        "Các bạn thực hiện tương tự để tính độ chính xác của KNeighborsClassifier"
      ]
    },
    {
      "cell_type": "code",
      "metadata": {
        "id": "Z6MR1MacS3QM",
        "colab": {
          "base_uri": "https://localhost:8080/"
        },
        "outputId": "16d9faf1-a7b4-4e1d-c33c-3f17561b5636"
      },
      "source": [
        "from sklearn.metrics import accuracy_score\n",
        "accuracy_score(y_test, y_pred2)*100"
      ],
      "execution_count": null,
      "outputs": [
        {
          "output_type": "execute_result",
          "data": {
            "text/plain": [
              "63.33333333333333"
            ]
          },
          "metadata": {},
          "execution_count": 37
        }
      ]
    },
    {
      "cell_type": "markdown",
      "metadata": {
        "id": "0InWmPuCTnWy"
      },
      "source": [
        "**BÀI TẬP 1**: DỰA VÀO VÍ DỤ MẪU Ở TRÊN, CÁC BẠN HÃY TÍNH THÊM ĐỘ ĐO **PRECISION, RECALL VÀ F1 MACRO** CHO MÔ HÌNH LogisticRegression \n",
        "\n",
        "Gợi ý: \n",
        "- precision_score: https://scikit-learn.org/stable/modules/generated/sklearn.metrics.precision_score.html#sklearn.metrics.precision_score\n",
        "- recall_score: https://scikit-learn.org/stable/modules/generated/sklearn.metrics.recall_score.html#sklearn.metrics.recall_score\n",
        "- f1_score: https://scikit-learn.org/stable/modules/generated/sklearn.metrics.f1_score.html#sklearn.metrics.f1_score\n",
        "\n",
        "Lưu ý: Để dùng f1 macro, các bạn cần khai báo thêm tham số average='macro' trong f1_score nhé "
      ]
    },
    {
      "cell_type": "code",
      "metadata": {
        "colab": {
          "base_uri": "https://localhost:8080/"
        },
        "id": "ceK3byz9mJ84",
        "outputId": "90bb7a93-43d8-4228-eddc-bdfb2cffa2e5"
      },
      "source": [
        "from sklearn.metrics import precision_score\n",
        "precision_score(y_test, y_pred1, average='macro')"
      ],
      "execution_count": null,
      "outputs": [
        {
          "output_type": "execute_result",
          "data": {
            "text/plain": [
              "0.7454545454545455"
            ]
          },
          "metadata": {},
          "execution_count": 41
        }
      ]
    },
    {
      "cell_type": "code",
      "metadata": {
        "colab": {
          "base_uri": "https://localhost:8080/"
        },
        "id": "lip9-5e1mP4G",
        "outputId": "fd536d4d-09e2-4087-eb94-983d0e00225c"
      },
      "source": [
        "from sklearn.metrics import recall_score\n",
        "recall_score(y_test, y_pred1, average='macro')"
      ],
      "execution_count": null,
      "outputs": [
        {
          "output_type": "execute_result",
          "data": {
            "text/plain": [
              "0.7333333333333334"
            ]
          },
          "metadata": {},
          "execution_count": 42
        }
      ]
    },
    {
      "cell_type": "code",
      "metadata": {
        "id": "pS7Luvz8T5up",
        "colab": {
          "base_uri": "https://localhost:8080/"
        },
        "outputId": "6867a03f-a902-4824-a469-9fdb8bbb0f36"
      },
      "source": [
        "from sklearn.metrics import f1_score\n",
        "f1_score(y_test, y_pred1, average='macro')"
      ],
      "execution_count": null,
      "outputs": [
        {
          "output_type": "execute_result",
          "data": {
            "text/plain": [
              "0.7380116959064327"
            ]
          },
          "metadata": {},
          "execution_count": 43
        }
      ]
    },
    {
      "cell_type": "markdown",
      "metadata": {
        "id": "Mu-bfmswUf8L"
      },
      "source": [
        "**BÀI TẬP 2**: Thực hiện các yêu cầu tương tự như BÀI TẬP 1 cho KNeighborsClassifier"
      ]
    },
    {
      "cell_type": "code",
      "metadata": {
        "colab": {
          "base_uri": "https://localhost:8080/"
        },
        "id": "pe0C6KKsmrhO",
        "outputId": "65dd71e3-b348-4b80-b738-bb9128b074b6"
      },
      "source": [
        "from sklearn.metrics import precision_score\n",
        "precision_score(y_test, y_pred2, average='macro')"
      ],
      "execution_count": null,
      "outputs": [
        {
          "output_type": "execute_result",
          "data": {
            "text/plain": [
              "0.6481481481481481"
            ]
          },
          "metadata": {},
          "execution_count": 44
        }
      ]
    },
    {
      "cell_type": "code",
      "metadata": {
        "colab": {
          "base_uri": "https://localhost:8080/"
        },
        "id": "aHMH18-5mOfO",
        "outputId": "aa324d61-94db-4833-e7d2-1e1061b720ff"
      },
      "source": [
        "from sklearn.metrics import recall_score\n",
        "recall_score(y_test, y_pred2, average='macro')"
      ],
      "execution_count": null,
      "outputs": [
        {
          "output_type": "execute_result",
          "data": {
            "text/plain": [
              "0.6333333333333333"
            ]
          },
          "metadata": {},
          "execution_count": 45
        }
      ]
    },
    {
      "cell_type": "code",
      "metadata": {
        "id": "gv9D8ZW8UtSS",
        "colab": {
          "base_uri": "https://localhost:8080/"
        },
        "outputId": "bb740de7-f837-42bd-e6f2-fe5150c93b8f"
      },
      "source": [
        "from sklearn.metrics import f1_score\n",
        "f1_score(y_test, y_pred2, average='macro')"
      ],
      "execution_count": null,
      "outputs": [
        {
          "output_type": "execute_result",
          "data": {
            "text/plain": [
              "0.6379585326953748"
            ]
          },
          "metadata": {},
          "execution_count": 46
        }
      ]
    },
    {
      "cell_type": "markdown",
      "metadata": {
        "id": "-BE_u7tPU-Ko"
      },
      "source": [
        "#4. BÀI TẬP"
      ]
    },
    {
      "cell_type": "markdown",
      "metadata": {
        "id": "HEKVxh_iVBs7"
      },
      "source": [
        "Các bạn thực hiện theo từng yêu cầu trong hướng dẫn trên file. Các bạn điền code trực tiếp, và thực hiện run code để ra kết quả ở các ô có ký hiệu ## CODE HERE ## \n",
        "\n",
        "Bài nộp: Nộp trên course. Giảng viên sẽ tạo submission cho các bạn, \n",
        "Các bạn nộp file jupyter notebook trực tiếp, đặt tên theo cú pháp: \n",
        "\n",
        "***MSSV_HoTen_BTTH1.jpynb***"
      ]
    }
  ]
}